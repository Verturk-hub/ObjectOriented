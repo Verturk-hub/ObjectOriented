{
 "cells": [
  {
   "cell_type": "code",
   "execution_count": 16,
   "source": [
    "class Student():\r\n",
    "    def __init__(self,name):\r\n",
    "        self._name=name\r\n",
    "        self._subject_list = []"
   ],
   "outputs": [],
   "metadata": {}
  },
  {
   "cell_type": "code",
   "execution_count": 17,
   "source": [
    "student1 = Student('Hazel')\r\n",
    "student2 = Student('Vildan')"
   ],
   "outputs": [],
   "metadata": {}
  },
  {
   "cell_type": "code",
   "execution_count": 18,
   "source": [
    "def add_subject(self, subject_name):\r\n",
    "    self._subject_list.append(subject_name)"
   ],
   "outputs": [],
   "metadata": {}
  },
  {
   "cell_type": "code",
   "execution_count": 19,
   "source": [
    "def get_student_data(self):\r\n",
    "    print(f'Student: {self._name} is assigned to:')\r\n",
    "    for subject in self._subject_list:\r\n",
    "        print(f'{subject}')\r\n",
    "    print()"
   ],
   "outputs": [],
   "metadata": {}
  },
  {
   "cell_type": "code",
   "execution_count": 22,
   "source": [
    "class Student():\r\n",
    "    def __init__(self,name):\r\n",
    "        self._name = name\r\n",
    "        self._subject_list = []\r\n",
    "    def add_subject(self, subject_name):\r\n",
    "        self._subject_list.append(subject_name)\r\n",
    "    def get_student_data(self):\r\n",
    "        print (f'Student: {self._name} is assigned to:')\r\n",
    "        for subject in self._subject_list:\r\n",
    "            print (f'{subject}')\r\n",
    "        print()"
   ],
   "outputs": [],
   "metadata": {}
  },
  {
   "cell_type": "code",
   "execution_count": 29,
   "source": [
    "student1 = Student('Hazel')\r\n",
    "student2 = Student('Vildan')\r\n",
    "\r\n",
    "student1.add_subject('python')\r\n",
    "student1.add_subject('linux')\r\n",
    "\r\n",
    "student2.add_subject('java')\r\n",
    "\r\n",
    "student1.get_student_data()\r\n",
    "student2.get_student_data()"
   ],
   "outputs": [
    {
     "output_type": "stream",
     "name": "stdout",
     "text": [
      "Student: Hazel is assigned to:\n",
      "python\n",
      "linux\n",
      "\n",
      "Student: Vildan is assigned to:\n",
      "java\n",
      "\n"
     ]
    }
   ],
   "metadata": {}
  }
 ],
 "metadata": {
  "orig_nbformat": 4,
  "language_info": {
   "name": "python",
   "version": "3.8.12",
   "mimetype": "text/x-python",
   "codemirror_mode": {
    "name": "ipython",
    "version": 3
   },
   "pygments_lexer": "ipython3",
   "nbconvert_exporter": "python",
   "file_extension": ".py"
  },
  "kernelspec": {
   "name": "python3",
   "display_name": "Python 3.8.12 64-bit ('ml': conda)"
  },
  "interpreter": {
   "hash": "ff1e2c4a7e03eeb4e26e4d26d514da215ebf38dfce64ba6fdcc533779cdbe8b5"
  }
 },
 "nbformat": 4,
 "nbformat_minor": 2
}